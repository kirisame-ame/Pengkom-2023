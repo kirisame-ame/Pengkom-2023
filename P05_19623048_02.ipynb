{
 "cells": [
  {
   "cell_type": "code",
   "execution_count": 129,
   "metadata": {},
   "outputs": [],
   "source": [
    "#NAMA/NIM = William Andrian Dharma T / 19623048\n",
    "#TANGGAL = 16/11/23\n",
    "#DESKRIPSI = Program analisis data"
   ]
  },
  {
   "cell_type": "code",
   "execution_count": 130,
   "metadata": {},
   "outputs": [],
   "source": [
    "import pandas as pd\n",
    "import matplotlib as mat\n",
    "df = pd.read_csv('P05-03.csv')"
   ]
  },
  {
   "cell_type": "code",
   "execution_count": 131,
   "metadata": {},
   "outputs": [
    {
     "data": {
      "text/plain": [
       "1841"
      ]
     },
     "execution_count": 131,
     "metadata": {},
     "output_type": "execute_result"
    }
   ],
   "source": [
    "#nomor 1\n",
    "len(df.loc[(df['minimum_nights'] == 1) & (df['number_of_reviews'] != 1)])"
   ]
  },
  {
   "cell_type": "code",
   "execution_count": 132,
   "metadata": {},
   "outputs": [
    {
     "name": "stdout",
     "output_type": "stream",
     "text": [
      "Francesca\n"
     ]
    }
   ],
   "source": [
    "#nomor 2\n",
    "max_ava = df[\"availability_365\"].idxmax()\n",
    "print(df.loc[max_ava,\"host_name\"])"
   ]
  },
  {
   "cell_type": "code",
   "execution_count": 133,
   "metadata": {},
   "outputs": [
    {
     "data": {
      "text/plain": [
       "2429"
      ]
     },
     "execution_count": 133,
     "metadata": {},
     "output_type": "execute_result"
    }
   ],
   "source": [
    "#nomor 3\n",
    "len(df.loc[((df['neighbourhood_group'] == \"Central Region\") | (df['neighbourhood_group'] == \"East Region\")) & (df['price'] < 100)])"
   ]
  },
  {
   "cell_type": "code",
   "execution_count": 134,
   "metadata": {},
   "outputs": [
    {
     "data": {
      "text/plain": [
       "room_type\n",
       "Entire home/apt    873\n",
       "Private room       681\n",
       "Shared room         67\n",
       "Name: count, dtype: int64"
      ]
     },
     "execution_count": 134,
     "metadata": {},
     "output_type": "execute_result"
    }
   ],
   "source": [
    "#nomor 4 \n",
    "above_1 = df.loc[df['reviews_per_month'] > 1]\n",
    "above_1['room_type'].value_counts()"
   ]
  },
  {
   "cell_type": "code",
   "execution_count": 135,
   "metadata": {},
   "outputs": [
    {
     "data": {
      "text/html": [
       "<div>\n",
       "<style scoped>\n",
       "    .dataframe tbody tr th:only-of-type {\n",
       "        vertical-align: middle;\n",
       "    }\n",
       "\n",
       "    .dataframe tbody tr th {\n",
       "        vertical-align: top;\n",
       "    }\n",
       "\n",
       "    .dataframe thead th {\n",
       "        text-align: right;\n",
       "    }\n",
       "</style>\n",
       "<table border=\"1\" class=\"dataframe\">\n",
       "  <thead>\n",
       "    <tr style=\"text-align: right;\">\n",
       "      <th></th>\n",
       "      <th>id</th>\n",
       "      <th>name</th>\n",
       "      <th>host_id</th>\n",
       "      <th>host_name</th>\n",
       "      <th>neighbourhood_group</th>\n",
       "      <th>neighbourhood</th>\n",
       "      <th>latitude</th>\n",
       "      <th>longitude</th>\n",
       "      <th>room_type</th>\n",
       "      <th>price</th>\n",
       "      <th>minimum_nights</th>\n",
       "      <th>number_of_reviews</th>\n",
       "      <th>last_review</th>\n",
       "      <th>reviews_per_month</th>\n",
       "      <th>calculated_host_listings_count</th>\n",
       "      <th>availability_365</th>\n",
       "    </tr>\n",
       "  </thead>\n",
       "  <tbody>\n",
       "    <tr>\n",
       "      <th>507</th>\n",
       "      <td>6079533</td>\n",
       "      <td>Master room 2 with a pool view</td>\n",
       "      <td>31557595</td>\n",
       "      <td>Jay</td>\n",
       "      <td>East Region</td>\n",
       "      <td>Pasir Ris</td>\n",
       "      <td>1.35894</td>\n",
       "      <td>103.96605</td>\n",
       "      <td>Private room</td>\n",
       "      <td>31</td>\n",
       "      <td>90</td>\n",
       "      <td>0</td>\n",
       "      <td>NaN</td>\n",
       "      <td>NaN</td>\n",
       "      <td>2</td>\n",
       "      <td>332</td>\n",
       "    </tr>\n",
       "    <tr>\n",
       "      <th>709</th>\n",
       "      <td>7517671</td>\n",
       "      <td>Super Big Master room</td>\n",
       "      <td>10064384</td>\n",
       "      <td>Jay</td>\n",
       "      <td>Central Region</td>\n",
       "      <td>Downtown Core</td>\n",
       "      <td>1.27377</td>\n",
       "      <td>103.84523</td>\n",
       "      <td>Private room</td>\n",
       "      <td>200</td>\n",
       "      <td>90</td>\n",
       "      <td>96</td>\n",
       "      <td>2019-02-13</td>\n",
       "      <td>2.15</td>\n",
       "      <td>10</td>\n",
       "      <td>347</td>\n",
       "    </tr>\n",
       "    <tr>\n",
       "      <th>712</th>\n",
       "      <td>7536368</td>\n",
       "      <td>Raffles Master Room</td>\n",
       "      <td>10064384</td>\n",
       "      <td>Jay</td>\n",
       "      <td>Central Region</td>\n",
       "      <td>Downtown Core</td>\n",
       "      <td>1.27400</td>\n",
       "      <td>103.84603</td>\n",
       "      <td>Private room</td>\n",
       "      <td>160</td>\n",
       "      <td>90</td>\n",
       "      <td>11</td>\n",
       "      <td>2018-11-30</td>\n",
       "      <td>0.28</td>\n",
       "      <td>10</td>\n",
       "      <td>364</td>\n",
       "    </tr>\n",
       "    <tr>\n",
       "      <th>714</th>\n",
       "      <td>7537301</td>\n",
       "      <td>Ocean view  Master Room in Penthouse</td>\n",
       "      <td>10064384</td>\n",
       "      <td>Jay</td>\n",
       "      <td>Central Region</td>\n",
       "      <td>Downtown Core</td>\n",
       "      <td>1.27843</td>\n",
       "      <td>103.84614</td>\n",
       "      <td>Private room</td>\n",
       "      <td>169</td>\n",
       "      <td>90</td>\n",
       "      <td>37</td>\n",
       "      <td>2019-01-06</td>\n",
       "      <td>0.81</td>\n",
       "      <td>10</td>\n",
       "      <td>354</td>\n",
       "    </tr>\n",
       "    <tr>\n",
       "      <th>715</th>\n",
       "      <td>7537485</td>\n",
       "      <td>Common Room</td>\n",
       "      <td>10064384</td>\n",
       "      <td>Jay</td>\n",
       "      <td>Central Region</td>\n",
       "      <td>Downtown Core</td>\n",
       "      <td>1.27450</td>\n",
       "      <td>103.84656</td>\n",
       "      <td>Private room</td>\n",
       "      <td>150</td>\n",
       "      <td>90</td>\n",
       "      <td>30</td>\n",
       "      <td>2019-01-04</td>\n",
       "      <td>0.70</td>\n",
       "      <td>10</td>\n",
       "      <td>0</td>\n",
       "    </tr>\n",
       "  </tbody>\n",
       "</table>\n",
       "</div>"
      ],
      "text/plain": [
       "          id                                  name   host_id host_name  \\\n",
       "507  6079533        Master room 2 with a pool view  31557595       Jay   \n",
       "709  7517671                 Super Big Master room  10064384       Jay   \n",
       "712  7536368                   Raffles Master Room  10064384       Jay   \n",
       "714  7537301  Ocean view  Master Room in Penthouse  10064384       Jay   \n",
       "715  7537485                           Common Room  10064384       Jay   \n",
       "\n",
       "    neighbourhood_group  neighbourhood  latitude  longitude     room_type  \\\n",
       "507         East Region      Pasir Ris   1.35894  103.96605  Private room   \n",
       "709      Central Region  Downtown Core   1.27377  103.84523  Private room   \n",
       "712      Central Region  Downtown Core   1.27400  103.84603  Private room   \n",
       "714      Central Region  Downtown Core   1.27843  103.84614  Private room   \n",
       "715      Central Region  Downtown Core   1.27450  103.84656  Private room   \n",
       "\n",
       "     price  minimum_nights  number_of_reviews last_review  reviews_per_month  \\\n",
       "507     31              90                  0         NaN                NaN   \n",
       "709    200              90                 96  2019-02-13               2.15   \n",
       "712    160              90                 11  2018-11-30               0.28   \n",
       "714    169              90                 37  2019-01-06               0.81   \n",
       "715    150              90                 30  2019-01-04               0.70   \n",
       "\n",
       "     calculated_host_listings_count  availability_365  \n",
       "507                               2               332  \n",
       "709                              10               347  \n",
       "712                              10               364  \n",
       "714                              10               354  \n",
       "715                              10                 0  "
      ]
     },
     "execution_count": 135,
     "metadata": {},
     "output_type": "execute_result"
    }
   ],
   "source": [
    "#nomor 5\n",
    "max_own = df[\"calculated_host_listings_count\"].idxmax()\n",
    "max_owner = df.loc[max_own,\"host_name\"]\n",
    "max_houses = df.loc[df[\"host_name\"] == max_owner]\n",
    "max_houses.head(n=5)"
   ]
  }
 ],
 "metadata": {
  "kernelspec": {
   "display_name": "Python 3",
   "language": "python",
   "name": "python3"
  },
  "language_info": {
   "codemirror_mode": {
    "name": "ipython",
    "version": 3
   },
   "file_extension": ".py",
   "mimetype": "text/x-python",
   "name": "python",
   "nbconvert_exporter": "python",
   "pygments_lexer": "ipython3",
   "version": "3.10.5"
  }
 },
 "nbformat": 4,
 "nbformat_minor": 2
}
